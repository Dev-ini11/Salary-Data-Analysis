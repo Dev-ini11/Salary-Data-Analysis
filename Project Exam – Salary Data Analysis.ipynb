{
 "cells": [
  {
   "cell_type": "code",
   "execution_count": 4,
   "id": "2b955ab9-a56d-4ee2-945d-18ac95f583a2",
   "metadata": {},
   "outputs": [],
   "source": [
    "import pandas as pd"
   ]
  },
  {
   "cell_type": "markdown",
   "id": "2eed9b54-2770-48b2-ae1d-4c5435bad342",
   "metadata": {},
   "source": [
    "## Section 1"
   ]
  },
  {
   "cell_type": "code",
   "execution_count": 5,
   "id": "1ea58eac-0fa9-461d-ac64-9f8d9439e2f2",
   "metadata": {},
   "outputs": [],
   "source": [
    "salary_data = 'ds_salaries_dirty.csv'\n",
    "salary_df_copy = salary_data"
   ]
  },
  {
   "cell_type": "code",
   "execution_count": 6,
   "id": "b1cfa34c-82fb-45f6-bd26-0423a6cccf2b",
   "metadata": {},
   "outputs": [
    {
     "data": {
      "text/html": [
       "<div>\n",
       "<style scoped>\n",
       "    .dataframe tbody tr th:only-of-type {\n",
       "        vertical-align: middle;\n",
       "    }\n",
       "\n",
       "    .dataframe tbody tr th {\n",
       "        vertical-align: top;\n",
       "    }\n",
       "\n",
       "    .dataframe thead th {\n",
       "        text-align: right;\n",
       "    }\n",
       "</style>\n",
       "<table border=\"1\" class=\"dataframe\">\n",
       "  <thead>\n",
       "    <tr style=\"text-align: right;\">\n",
       "      <th></th>\n",
       "      <th>work_year</th>\n",
       "      <th>experience_level</th>\n",
       "      <th>employment_type</th>\n",
       "      <th>job_title</th>\n",
       "      <th>salary_in_usd</th>\n",
       "      <th>remote_ratio</th>\n",
       "      <th>company_location</th>\n",
       "      <th>company_size</th>\n",
       "    </tr>\n",
       "  </thead>\n",
       "  <tbody>\n",
       "    <tr>\n",
       "      <th>0</th>\n",
       "      <td>2022</td>\n",
       "      <td>SE</td>\n",
       "      <td>CT</td>\n",
       "      <td>Data Scientist</td>\n",
       "      <td>42183.0</td>\n",
       "      <td>50</td>\n",
       "      <td>IN</td>\n",
       "      <td>L</td>\n",
       "    </tr>\n",
       "    <tr>\n",
       "      <th>1</th>\n",
       "      <td>2023</td>\n",
       "      <td>MI</td>\n",
       "      <td>FL</td>\n",
       "      <td>Data Scientist</td>\n",
       "      <td>190371.0</td>\n",
       "      <td>100</td>\n",
       "      <td>IN</td>\n",
       "      <td>S</td>\n",
       "    </tr>\n",
       "    <tr>\n",
       "      <th>2</th>\n",
       "      <td>2020</td>\n",
       "      <td>MI</td>\n",
       "      <td>CT</td>\n",
       "      <td>DS</td>\n",
       "      <td>173946.0</td>\n",
       "      <td>50</td>\n",
       "      <td>IN</td>\n",
       "      <td>L</td>\n",
       "    </tr>\n",
       "    <tr>\n",
       "      <th>3</th>\n",
       "      <td>2022</td>\n",
       "      <td>NaN</td>\n",
       "      <td>FT</td>\n",
       "      <td>ML Engineer</td>\n",
       "      <td>146336.0</td>\n",
       "      <td>50</td>\n",
       "      <td>DE</td>\n",
       "      <td>S</td>\n",
       "    </tr>\n",
       "    <tr>\n",
       "      <th>4</th>\n",
       "      <td>2022</td>\n",
       "      <td>MI</td>\n",
       "      <td>FL</td>\n",
       "      <td>ML Engineer</td>\n",
       "      <td>9999999.0</td>\n",
       "      <td>100</td>\n",
       "      <td>NG</td>\n",
       "      <td>L</td>\n",
       "    </tr>\n",
       "    <tr>\n",
       "      <th>5</th>\n",
       "      <td>2023</td>\n",
       "      <td>MI</td>\n",
       "      <td>FT</td>\n",
       "      <td>Data Scientist</td>\n",
       "      <td>35539.0</td>\n",
       "      <td>50</td>\n",
       "      <td>GB</td>\n",
       "      <td>S</td>\n",
       "    </tr>\n",
       "    <tr>\n",
       "      <th>6</th>\n",
       "      <td>2020</td>\n",
       "      <td>NaN</td>\n",
       "      <td>FL</td>\n",
       "      <td>AI Specialist</td>\n",
       "      <td>214423.0</td>\n",
       "      <td>100</td>\n",
       "      <td>DE</td>\n",
       "      <td>XL</td>\n",
       "    </tr>\n",
       "    <tr>\n",
       "      <th>7</th>\n",
       "      <td>2020</td>\n",
       "      <td>EX</td>\n",
       "      <td>FL</td>\n",
       "      <td>ML Engineer</td>\n",
       "      <td>222339.0</td>\n",
       "      <td>50</td>\n",
       "      <td>IN</td>\n",
       "      <td>S</td>\n",
       "    </tr>\n",
       "    <tr>\n",
       "      <th>8</th>\n",
       "      <td>2022</td>\n",
       "      <td>MI</td>\n",
       "      <td>PT</td>\n",
       "      <td>DS</td>\n",
       "      <td>209426.0</td>\n",
       "      <td>100</td>\n",
       "      <td>US</td>\n",
       "      <td>S</td>\n",
       "    </tr>\n",
       "    <tr>\n",
       "      <th>9</th>\n",
       "      <td>2021</td>\n",
       "      <td>SE</td>\n",
       "      <td>FT</td>\n",
       "      <td>ML Engineer</td>\n",
       "      <td>5000000.0</td>\n",
       "      <td>100</td>\n",
       "      <td>IN</td>\n",
       "      <td>M</td>\n",
       "    </tr>\n",
       "  </tbody>\n",
       "</table>\n",
       "</div>"
      ],
      "text/plain": [
       "   work_year experience_level employment_type       job_title  salary_in_usd  \\\n",
       "0       2022               SE              CT  Data Scientist        42183.0   \n",
       "1       2023               MI              FL  Data Scientist       190371.0   \n",
       "2       2020               MI              CT              DS       173946.0   \n",
       "3       2022              NaN              FT     ML Engineer       146336.0   \n",
       "4       2022               MI              FL     ML Engineer      9999999.0   \n",
       "5       2023               MI              FT  Data Scientist        35539.0   \n",
       "6       2020              NaN              FL   AI Specialist       214423.0   \n",
       "7       2020               EX              FL     ML Engineer       222339.0   \n",
       "8       2022               MI              PT              DS       209426.0   \n",
       "9       2021               SE              FT     ML Engineer      5000000.0   \n",
       "\n",
       "   remote_ratio company_location company_size  \n",
       "0            50               IN            L  \n",
       "1           100               IN            S  \n",
       "2            50               IN            L  \n",
       "3            50               DE            S  \n",
       "4           100               NG            L  \n",
       "5            50               GB            S  \n",
       "6           100               DE           XL  \n",
       "7            50               IN            S  \n",
       "8           100               US            S  \n",
       "9           100               IN            M  "
      ]
     },
     "execution_count": 6,
     "metadata": {},
     "output_type": "execute_result"
    }
   ],
   "source": [
    "salary_df = pd.read_csv(salary_data)\n",
    "salary_df.head(10)"
   ]
  },
  {
   "cell_type": "code",
   "execution_count": 7,
   "id": "69ec7a5c-3f0c-46d6-a180-f91c0c95ca44",
   "metadata": {},
   "outputs": [
    {
     "data": {
      "text/plain": [
       "Index(['work_year', 'experience_level', 'employment_type', 'job_title',\n",
       "       'salary_in_usd', 'remote_ratio', 'company_location', 'company_size'],\n",
       "      dtype='object')"
      ]
     },
     "execution_count": 7,
     "metadata": {},
     "output_type": "execute_result"
    }
   ],
   "source": [
    "salary_df.columns"
   ]
  },
  {
   "cell_type": "code",
   "execution_count": null,
   "id": "c6138ea6-5971-48b1-9862-78ceb2aea7b2",
   "metadata": {},
   "outputs": [],
   "source": []
  },
  {
   "cell_type": "code",
   "execution_count": 8,
   "id": "1c5b1ee4-9f52-48cb-a583-1f2a9ba411e5",
   "metadata": {},
   "outputs": [
    {
     "name": "stdout",
     "output_type": "stream",
     "text": [
      "<class 'pandas.core.frame.DataFrame'>\n",
      "RangeIndex: 100 entries, 0 to 99\n",
      "Data columns (total 8 columns):\n",
      " #   Column            Non-Null Count  Dtype  \n",
      "---  ------            --------------  -----  \n",
      " 0   work_year         100 non-null    int64  \n",
      " 1   experience_level  90 non-null     object \n",
      " 2   employment_type   92 non-null     object \n",
      " 3   job_title         100 non-null    object \n",
      " 4   salary_in_usd     96 non-null     float64\n",
      " 5   remote_ratio      100 non-null    int64  \n",
      " 6   company_location  94 non-null     object \n",
      " 7   company_size      100 non-null    object \n",
      "dtypes: float64(1), int64(2), object(5)\n",
      "memory usage: 6.4+ KB\n"
     ]
    }
   ],
   "source": [
    "salary_df.info()"
   ]
  },
  {
   "cell_type": "code",
   "execution_count": 9,
   "id": "dab4db20-978c-4cc2-b222-77a365047435",
   "metadata": {},
   "outputs": [],
   "source": [
    "salary_df.dropna(inplace = True) # this removes less than 25% of the data, so it's still good"
   ]
  },
  {
   "cell_type": "code",
   "execution_count": 10,
   "id": "b8705db9-6ded-4d6b-86f4-4d32cc4f61b7",
   "metadata": {},
   "outputs": [
    {
     "data": {
      "text/plain": [
       "work_year           76\n",
       "experience_level    76\n",
       "employment_type     76\n",
       "job_title           76\n",
       "salary_in_usd       76\n",
       "remote_ratio        76\n",
       "company_location    76\n",
       "company_size        76\n",
       "dtype: int64"
      ]
     },
     "execution_count": 10,
     "metadata": {},
     "output_type": "execute_result"
    }
   ],
   "source": [
    "salary_df.isna().count()"
   ]
  },
  {
   "cell_type": "code",
   "execution_count": 11,
   "id": "4ee07b51-39ea-46e4-ac6c-fd4dbbb66be7",
   "metadata": {},
   "outputs": [
    {
     "data": {
      "text/html": [
       "<div>\n",
       "<style scoped>\n",
       "    .dataframe tbody tr th:only-of-type {\n",
       "        vertical-align: middle;\n",
       "    }\n",
       "\n",
       "    .dataframe tbody tr th {\n",
       "        vertical-align: top;\n",
       "    }\n",
       "\n",
       "    .dataframe thead th {\n",
       "        text-align: right;\n",
       "    }\n",
       "</style>\n",
       "<table border=\"1\" class=\"dataframe\">\n",
       "  <thead>\n",
       "    <tr style=\"text-align: right;\">\n",
       "      <th></th>\n",
       "      <th>work_year</th>\n",
       "      <th>experience_level</th>\n",
       "      <th>employment_type</th>\n",
       "      <th>job_title</th>\n",
       "      <th>salary_in_usd</th>\n",
       "      <th>remote_ratio</th>\n",
       "      <th>company_location</th>\n",
       "      <th>company_size</th>\n",
       "    </tr>\n",
       "  </thead>\n",
       "  <tbody>\n",
       "    <tr>\n",
       "      <th>0</th>\n",
       "      <td>2022</td>\n",
       "      <td>SE</td>\n",
       "      <td>CT</td>\n",
       "      <td>Data Scientist</td>\n",
       "      <td>42183.0</td>\n",
       "      <td>50</td>\n",
       "      <td>IN</td>\n",
       "      <td>L</td>\n",
       "    </tr>\n",
       "    <tr>\n",
       "      <th>1</th>\n",
       "      <td>2023</td>\n",
       "      <td>MI</td>\n",
       "      <td>FL</td>\n",
       "      <td>Data Scientist</td>\n",
       "      <td>190371.0</td>\n",
       "      <td>100</td>\n",
       "      <td>IN</td>\n",
       "      <td>S</td>\n",
       "    </tr>\n",
       "    <tr>\n",
       "      <th>2</th>\n",
       "      <td>2020</td>\n",
       "      <td>MI</td>\n",
       "      <td>CT</td>\n",
       "      <td>DS</td>\n",
       "      <td>173946.0</td>\n",
       "      <td>50</td>\n",
       "      <td>IN</td>\n",
       "      <td>L</td>\n",
       "    </tr>\n",
       "    <tr>\n",
       "      <th>4</th>\n",
       "      <td>2022</td>\n",
       "      <td>MI</td>\n",
       "      <td>FL</td>\n",
       "      <td>ML Engineer</td>\n",
       "      <td>9999999.0</td>\n",
       "      <td>100</td>\n",
       "      <td>NG</td>\n",
       "      <td>L</td>\n",
       "    </tr>\n",
       "    <tr>\n",
       "      <th>5</th>\n",
       "      <td>2023</td>\n",
       "      <td>MI</td>\n",
       "      <td>FT</td>\n",
       "      <td>Data Scientist</td>\n",
       "      <td>35539.0</td>\n",
       "      <td>50</td>\n",
       "      <td>GB</td>\n",
       "      <td>S</td>\n",
       "    </tr>\n",
       "    <tr>\n",
       "      <th>...</th>\n",
       "      <td>...</td>\n",
       "      <td>...</td>\n",
       "      <td>...</td>\n",
       "      <td>...</td>\n",
       "      <td>...</td>\n",
       "      <td>...</td>\n",
       "      <td>...</td>\n",
       "      <td>...</td>\n",
       "    </tr>\n",
       "    <tr>\n",
       "      <th>93</th>\n",
       "      <td>2021</td>\n",
       "      <td>SE</td>\n",
       "      <td>PT</td>\n",
       "      <td>AI Specialist</td>\n",
       "      <td>211408.0</td>\n",
       "      <td>50</td>\n",
       "      <td>DE</td>\n",
       "      <td>S</td>\n",
       "    </tr>\n",
       "    <tr>\n",
       "      <th>94</th>\n",
       "      <td>2021</td>\n",
       "      <td>SE</td>\n",
       "      <td>PT</td>\n",
       "      <td>Data Analyst</td>\n",
       "      <td>148015.0</td>\n",
       "      <td>50</td>\n",
       "      <td>NG</td>\n",
       "      <td>S</td>\n",
       "    </tr>\n",
       "    <tr>\n",
       "      <th>96</th>\n",
       "      <td>2021</td>\n",
       "      <td>MI</td>\n",
       "      <td>PT</td>\n",
       "      <td>AI Specialist</td>\n",
       "      <td>56641.0</td>\n",
       "      <td>0</td>\n",
       "      <td>US</td>\n",
       "      <td>M</td>\n",
       "    </tr>\n",
       "    <tr>\n",
       "      <th>98</th>\n",
       "      <td>2021</td>\n",
       "      <td>EN</td>\n",
       "      <td>FT</td>\n",
       "      <td>AI Specialist</td>\n",
       "      <td>193817.0</td>\n",
       "      <td>0</td>\n",
       "      <td>NG</td>\n",
       "      <td>S</td>\n",
       "    </tr>\n",
       "    <tr>\n",
       "      <th>99</th>\n",
       "      <td>2020</td>\n",
       "      <td>SE</td>\n",
       "      <td>FL</td>\n",
       "      <td>Data Scientist</td>\n",
       "      <td>184165.0</td>\n",
       "      <td>0</td>\n",
       "      <td>US</td>\n",
       "      <td>L</td>\n",
       "    </tr>\n",
       "  </tbody>\n",
       "</table>\n",
       "<p>76 rows × 8 columns</p>\n",
       "</div>"
      ],
      "text/plain": [
       "    work_year experience_level employment_type       job_title  salary_in_usd  \\\n",
       "0        2022               SE              CT  Data Scientist        42183.0   \n",
       "1        2023               MI              FL  Data Scientist       190371.0   \n",
       "2        2020               MI              CT              DS       173946.0   \n",
       "4        2022               MI              FL     ML Engineer      9999999.0   \n",
       "5        2023               MI              FT  Data Scientist        35539.0   \n",
       "..        ...              ...             ...             ...            ...   \n",
       "93       2021               SE              PT   AI Specialist       211408.0   \n",
       "94       2021               SE              PT    Data Analyst       148015.0   \n",
       "96       2021               MI              PT   AI Specialist        56641.0   \n",
       "98       2021               EN              FT   AI Specialist       193817.0   \n",
       "99       2020               SE              FL  Data Scientist       184165.0   \n",
       "\n",
       "    remote_ratio company_location company_size  \n",
       "0             50               IN            L  \n",
       "1            100               IN            S  \n",
       "2             50               IN            L  \n",
       "4            100               NG            L  \n",
       "5             50               GB            S  \n",
       "..           ...              ...          ...  \n",
       "93            50               DE            S  \n",
       "94            50               NG            S  \n",
       "96             0               US            M  \n",
       "98             0               NG            S  \n",
       "99             0               US            L  \n",
       "\n",
       "[76 rows x 8 columns]"
      ]
     },
     "execution_count": 11,
     "metadata": {},
     "output_type": "execute_result"
    }
   ],
   "source": [
    "salary_df"
   ]
  },
  {
   "cell_type": "code",
   "execution_count": 12,
   "id": "b6d130c5-d51e-467c-8b6b-8ca673bc775d",
   "metadata": {},
   "outputs": [
    {
     "name": "stdout",
     "output_type": "stream",
     "text": [
      "<class 'pandas.core.frame.DataFrame'>\n",
      "Index: 76 entries, 0 to 99\n",
      "Data columns (total 8 columns):\n",
      " #   Column            Non-Null Count  Dtype  \n",
      "---  ------            --------------  -----  \n",
      " 0   work_year         76 non-null     int64  \n",
      " 1   experience_level  76 non-null     object \n",
      " 2   employment_type   76 non-null     object \n",
      " 3   job_title         76 non-null     object \n",
      " 4   salary_in_usd     76 non-null     float64\n",
      " 5   remote_ratio      76 non-null     int64  \n",
      " 6   company_location  76 non-null     object \n",
      " 7   company_size      76 non-null     object \n",
      "dtypes: float64(1), int64(2), object(5)\n",
      "memory usage: 5.3+ KB\n"
     ]
    }
   ],
   "source": [
    "salary_df.info() "
   ]
  },
  {
   "cell_type": "code",
   "execution_count": 13,
   "id": "537eabad-875d-4efe-8fcf-44a9fdfe3d83",
   "metadata": {},
   "outputs": [
    {
     "data": {
      "text/plain": [
       "job_title\n",
       "AI Specialist     23\n",
       "Data Scientist    19\n",
       "Data Analyst      18\n",
       "ML Engineer       12\n",
       "DS                 4\n",
       "Name: count, dtype: int64"
      ]
     },
     "execution_count": 13,
     "metadata": {},
     "output_type": "execute_result"
    }
   ],
   "source": [
    "salary_df['job_title'].value_counts() #checking for incosistency with the job titles"
   ]
  },
  {
   "cell_type": "code",
   "execution_count": 14,
   "id": "dc6ca15d-4fbb-45cf-8e8c-a08689d7aa0d",
   "metadata": {},
   "outputs": [],
   "source": [
    "salary_df['job_title'] = salary_df['job_title'].str.replace('DS', 'Data Scientist') #replaced DS with Data Scientist "
   ]
  },
  {
   "cell_type": "code",
   "execution_count": 15,
   "id": "75e54d9c-b631-4d5c-84d6-bfa0eaaa994f",
   "metadata": {},
   "outputs": [
    {
     "data": {
      "text/plain": [
       "job_title\n",
       "Data Scientist    23\n",
       "AI Specialist     23\n",
       "Data Analyst      18\n",
       "ML Engineer       12\n",
       "Name: count, dtype: int64"
      ]
     },
     "execution_count": 15,
     "metadata": {},
     "output_type": "execute_result"
    }
   ],
   "source": [
    "salary_df['job_title'].value_counts() "
   ]
  },
  {
   "cell_type": "markdown",
   "id": "84ecb437-175d-4e52-ad51-a8ab564daa71",
   "metadata": {},
   "source": [
    "#### The dataset had a few null cells, which were dropped; the dropped data accounted for less than 25% of the entire dataset. \n",
    "#### There were also incorrect/ invalid job titles"
   ]
  },
  {
   "cell_type": "markdown",
   "id": "604840e1-2a96-4d39-91cd-7447187cac52",
   "metadata": {},
   "source": [
    "## Section 2"
   ]
  },
  {
   "cell_type": "code",
   "execution_count": 16,
   "id": "cd7ac372-a0a6-491b-9c2e-d3c3ac2717a5",
   "metadata": {},
   "outputs": [],
   "source": [
    "salary_df.rename(columns = {'salary_in_usd' : 'salary($)'}, inplace = True)"
   ]
  },
  {
   "cell_type": "code",
   "execution_count": 17,
   "id": "e3c5b159-8599-4b15-801d-19a9ba78c3dc",
   "metadata": {},
   "outputs": [
    {
     "data": {
      "text/html": [
       "<div>\n",
       "<style scoped>\n",
       "    .dataframe tbody tr th:only-of-type {\n",
       "        vertical-align: middle;\n",
       "    }\n",
       "\n",
       "    .dataframe tbody tr th {\n",
       "        vertical-align: top;\n",
       "    }\n",
       "\n",
       "    .dataframe thead th {\n",
       "        text-align: right;\n",
       "    }\n",
       "</style>\n",
       "<table border=\"1\" class=\"dataframe\">\n",
       "  <thead>\n",
       "    <tr style=\"text-align: right;\">\n",
       "      <th></th>\n",
       "      <th>work_year</th>\n",
       "      <th>experience_level</th>\n",
       "      <th>employment_type</th>\n",
       "      <th>job_title</th>\n",
       "      <th>salary($)</th>\n",
       "      <th>remote_ratio</th>\n",
       "      <th>company_location</th>\n",
       "      <th>company_size</th>\n",
       "    </tr>\n",
       "  </thead>\n",
       "  <tbody>\n",
       "    <tr>\n",
       "      <th>0</th>\n",
       "      <td>2022</td>\n",
       "      <td>SE</td>\n",
       "      <td>CT</td>\n",
       "      <td>Data Scientist</td>\n",
       "      <td>42183.0</td>\n",
       "      <td>50</td>\n",
       "      <td>IN</td>\n",
       "      <td>L</td>\n",
       "    </tr>\n",
       "    <tr>\n",
       "      <th>1</th>\n",
       "      <td>2023</td>\n",
       "      <td>MI</td>\n",
       "      <td>FL</td>\n",
       "      <td>Data Scientist</td>\n",
       "      <td>190371.0</td>\n",
       "      <td>100</td>\n",
       "      <td>IN</td>\n",
       "      <td>S</td>\n",
       "    </tr>\n",
       "    <tr>\n",
       "      <th>2</th>\n",
       "      <td>2020</td>\n",
       "      <td>MI</td>\n",
       "      <td>CT</td>\n",
       "      <td>Data Scientist</td>\n",
       "      <td>173946.0</td>\n",
       "      <td>50</td>\n",
       "      <td>IN</td>\n",
       "      <td>L</td>\n",
       "    </tr>\n",
       "    <tr>\n",
       "      <th>4</th>\n",
       "      <td>2022</td>\n",
       "      <td>MI</td>\n",
       "      <td>FL</td>\n",
       "      <td>ML Engineer</td>\n",
       "      <td>9999999.0</td>\n",
       "      <td>100</td>\n",
       "      <td>NG</td>\n",
       "      <td>L</td>\n",
       "    </tr>\n",
       "    <tr>\n",
       "      <th>5</th>\n",
       "      <td>2023</td>\n",
       "      <td>MI</td>\n",
       "      <td>FT</td>\n",
       "      <td>Data Scientist</td>\n",
       "      <td>35539.0</td>\n",
       "      <td>50</td>\n",
       "      <td>GB</td>\n",
       "      <td>S</td>\n",
       "    </tr>\n",
       "    <tr>\n",
       "      <th>...</th>\n",
       "      <td>...</td>\n",
       "      <td>...</td>\n",
       "      <td>...</td>\n",
       "      <td>...</td>\n",
       "      <td>...</td>\n",
       "      <td>...</td>\n",
       "      <td>...</td>\n",
       "      <td>...</td>\n",
       "    </tr>\n",
       "    <tr>\n",
       "      <th>93</th>\n",
       "      <td>2021</td>\n",
       "      <td>SE</td>\n",
       "      <td>PT</td>\n",
       "      <td>AI Specialist</td>\n",
       "      <td>211408.0</td>\n",
       "      <td>50</td>\n",
       "      <td>DE</td>\n",
       "      <td>S</td>\n",
       "    </tr>\n",
       "    <tr>\n",
       "      <th>94</th>\n",
       "      <td>2021</td>\n",
       "      <td>SE</td>\n",
       "      <td>PT</td>\n",
       "      <td>Data Analyst</td>\n",
       "      <td>148015.0</td>\n",
       "      <td>50</td>\n",
       "      <td>NG</td>\n",
       "      <td>S</td>\n",
       "    </tr>\n",
       "    <tr>\n",
       "      <th>96</th>\n",
       "      <td>2021</td>\n",
       "      <td>MI</td>\n",
       "      <td>PT</td>\n",
       "      <td>AI Specialist</td>\n",
       "      <td>56641.0</td>\n",
       "      <td>0</td>\n",
       "      <td>US</td>\n",
       "      <td>M</td>\n",
       "    </tr>\n",
       "    <tr>\n",
       "      <th>98</th>\n",
       "      <td>2021</td>\n",
       "      <td>EN</td>\n",
       "      <td>FT</td>\n",
       "      <td>AI Specialist</td>\n",
       "      <td>193817.0</td>\n",
       "      <td>0</td>\n",
       "      <td>NG</td>\n",
       "      <td>S</td>\n",
       "    </tr>\n",
       "    <tr>\n",
       "      <th>99</th>\n",
       "      <td>2020</td>\n",
       "      <td>SE</td>\n",
       "      <td>FL</td>\n",
       "      <td>Data Scientist</td>\n",
       "      <td>184165.0</td>\n",
       "      <td>0</td>\n",
       "      <td>US</td>\n",
       "      <td>L</td>\n",
       "    </tr>\n",
       "  </tbody>\n",
       "</table>\n",
       "<p>76 rows × 8 columns</p>\n",
       "</div>"
      ],
      "text/plain": [
       "    work_year experience_level employment_type       job_title  salary($)  \\\n",
       "0        2022               SE              CT  Data Scientist    42183.0   \n",
       "1        2023               MI              FL  Data Scientist   190371.0   \n",
       "2        2020               MI              CT  Data Scientist   173946.0   \n",
       "4        2022               MI              FL     ML Engineer  9999999.0   \n",
       "5        2023               MI              FT  Data Scientist    35539.0   \n",
       "..        ...              ...             ...             ...        ...   \n",
       "93       2021               SE              PT   AI Specialist   211408.0   \n",
       "94       2021               SE              PT    Data Analyst   148015.0   \n",
       "96       2021               MI              PT   AI Specialist    56641.0   \n",
       "98       2021               EN              FT   AI Specialist   193817.0   \n",
       "99       2020               SE              FL  Data Scientist   184165.0   \n",
       "\n",
       "    remote_ratio company_location company_size  \n",
       "0             50               IN            L  \n",
       "1            100               IN            S  \n",
       "2             50               IN            L  \n",
       "4            100               NG            L  \n",
       "5             50               GB            S  \n",
       "..           ...              ...          ...  \n",
       "93            50               DE            S  \n",
       "94            50               NG            S  \n",
       "96             0               US            M  \n",
       "98             0               NG            S  \n",
       "99             0               US            L  \n",
       "\n",
       "[76 rows x 8 columns]"
      ]
     },
     "execution_count": 17,
     "metadata": {},
     "output_type": "execute_result"
    }
   ],
   "source": [
    "salary_df"
   ]
  },
  {
   "cell_type": "code",
   "execution_count": 18,
   "id": "ccee4ace-53c9-4490-8eb4-aeb3114b0ddf",
   "metadata": {},
   "outputs": [
    {
     "data": {
      "text/plain": [
       "experience_level\n",
       "SE    23\n",
       "EN    20\n",
       "MI    18\n",
       "EX    15\n",
       "Name: count, dtype: int64"
      ]
     },
     "execution_count": 18,
     "metadata": {},
     "output_type": "execute_result"
    }
   ],
   "source": [
    "salary_df['experience_level'].value_counts()"
   ]
  },
  {
   "cell_type": "code",
   "execution_count": 19,
   "id": "f13bf93a-e49c-4720-ada4-aa5f6e015a5f",
   "metadata": {},
   "outputs": [
    {
     "data": {
      "text/plain": [
       "experience_level\n",
       "EN    128773.450000\n",
       "EX    168610.266667\n",
       "MI    689868.111111\n",
       "SE    355328.956522\n",
       "Name: salary($), dtype: float64"
      ]
     },
     "execution_count": 19,
     "metadata": {},
     "output_type": "execute_result"
    }
   ],
   "source": [
    "# Analysis of salary trends based on experience levels\n",
    "salary_df.groupby('experience_level')['salary($)'].mean()"
   ]
  },
  {
   "cell_type": "code",
   "execution_count": 22,
   "id": "48ea7358-2570-4334-9a87-c0f9860ed431",
   "metadata": {},
   "outputs": [],
   "source": [
    "# did this for all four experience levels\n",
    "salary_df['experience_level'] = salary_df['experience_level'].str.replace('SE', 'Senior-level(SE)')"
   ]
  },
  {
   "cell_type": "code",
   "execution_count": 24,
   "id": "638c081e-ced8-4e5c-b76f-fbe342006d75",
   "metadata": {},
   "outputs": [],
   "source": [
    "salary_df['experience_level'] = salary_df['experience_level'].str.replace('MI', 'Mid-level(MI)')"
   ]
  },
  {
   "cell_type": "code",
   "execution_count": 26,
   "id": "bf2937c8-7771-496a-af60-b46b57c7b945",
   "metadata": {},
   "outputs": [],
   "source": [
    "salary_df['experience_level'] = salary_df['experience_level'].str.replace('EN', 'Entry-level(EN)')"
   ]
  },
  {
   "cell_type": "code",
   "execution_count": 27,
   "id": "1f50f891-3365-4123-822d-3d5cc325f3da",
   "metadata": {},
   "outputs": [],
   "source": [
    "salary_df['experience_level'] = salary_df['experience_level'].str.replace('EX', 'Executive-level')"
   ]
  },
  {
   "cell_type": "code",
   "execution_count": 28,
   "id": "9a8db6f8-6850-4892-88c1-9181222af2cd",
   "metadata": {},
   "outputs": [
    {
     "data": {
      "text/plain": [
       "<Axes: xlabel='Experience Level'>"
      ]
     },
     "execution_count": 28,
     "metadata": {},
     "output_type": "execute_result"
    },
    {
     "data": {
      "image/png": "[encoded data removed]",
      "text/plain": [
       "<Figure size 640x480 with 1 Axes>"
      ]
     },
     "metadata": {},
     "output_type": "display_data"
    }
   ],
   "source": [
    "#this returns a pie chart based on the mean average of the salaries to the experience levels\n",
    "salary_df.groupby('experience_level')['salary($)'].mean().plot(kind = 'bar', xlabel = 'Experience Level')"
   ]
  },
  {
   "cell_type": "markdown",
   "id": "27320c9d-af22-420e-ac84-8fe456ebef5b",
   "metadata": {},
   "source": [
    "#### Salaries generally increase as experience increases from entry-level to senior-level. \n",
    "#### However, the executive group shows a drop in average salary, which may suggest fewer executive roles in the dataset"
   ]
  },
  {
   "cell_type": "markdown",
   "id": "1f6fb755-f78e-4fe5-b2fb-4aa4e5234660",
   "metadata": {},
   "source": [
    "## Section 3"
   ]
  },
  {
   "cell_type": "code",
   "execution_count": 29,
   "id": "42f75f73-17a4-4398-9bdb-f32f9fb74f40",
   "metadata": {},
   "outputs": [
    {
     "data": {
      "text/html": [
       "<div>\n",
       "<style scoped>\n",
       "    .dataframe tbody tr th:only-of-type {\n",
       "        vertical-align: middle;\n",
       "    }\n",
       "\n",
       "    .dataframe tbody tr th {\n",
       "        vertical-align: top;\n",
       "    }\n",
       "\n",
       "    .dataframe thead th {\n",
       "        text-align: right;\n",
       "    }\n",
       "</style>\n",
       "<table border=\"1\" class=\"dataframe\">\n",
       "  <thead>\n",
       "    <tr style=\"text-align: right;\">\n",
       "      <th></th>\n",
       "      <th>work_year</th>\n",
       "      <th>experience_level</th>\n",
       "      <th>employment_type</th>\n",
       "      <th>job_title</th>\n",
       "      <th>salary($)</th>\n",
       "      <th>remote_ratio</th>\n",
       "      <th>company_location</th>\n",
       "      <th>company_size</th>\n",
       "    </tr>\n",
       "  </thead>\n",
       "  <tbody>\n",
       "    <tr>\n",
       "      <th>0</th>\n",
       "      <td>2022</td>\n",
       "      <td>Senior-level(SE)</td>\n",
       "      <td>CT</td>\n",
       "      <td>Data Scientist</td>\n",
       "      <td>42183.0</td>\n",
       "      <td>50</td>\n",
       "      <td>IN</td>\n",
       "      <td>L</td>\n",
       "    </tr>\n",
       "    <tr>\n",
       "      <th>1</th>\n",
       "      <td>2023</td>\n",
       "      <td>Mid-level(MI)</td>\n",
       "      <td>FL</td>\n",
       "      <td>Data Scientist</td>\n",
       "      <td>190371.0</td>\n",
       "      <td>100</td>\n",
       "      <td>IN</td>\n",
       "      <td>S</td>\n",
       "    </tr>\n",
       "    <tr>\n",
       "      <th>2</th>\n",
       "      <td>2020</td>\n",
       "      <td>Mid-level(MI)</td>\n",
       "      <td>CT</td>\n",
       "      <td>Data Scientist</td>\n",
       "      <td>173946.0</td>\n",
       "      <td>50</td>\n",
       "      <td>IN</td>\n",
       "      <td>L</td>\n",
       "    </tr>\n",
       "    <tr>\n",
       "      <th>4</th>\n",
       "      <td>2022</td>\n",
       "      <td>Mid-level(MI)</td>\n",
       "      <td>FL</td>\n",
       "      <td>ML Engineer</td>\n",
       "      <td>9999999.0</td>\n",
       "      <td>100</td>\n",
       "      <td>NG</td>\n",
       "      <td>L</td>\n",
       "    </tr>\n",
       "    <tr>\n",
       "      <th>5</th>\n",
       "      <td>2023</td>\n",
       "      <td>Mid-level(MI)</td>\n",
       "      <td>FT</td>\n",
       "      <td>Data Scientist</td>\n",
       "      <td>35539.0</td>\n",
       "      <td>50</td>\n",
       "      <td>GB</td>\n",
       "      <td>S</td>\n",
       "    </tr>\n",
       "    <tr>\n",
       "      <th>...</th>\n",
       "      <td>...</td>\n",
       "      <td>...</td>\n",
       "      <td>...</td>\n",
       "      <td>...</td>\n",
       "      <td>...</td>\n",
       "      <td>...</td>\n",
       "      <td>...</td>\n",
       "      <td>...</td>\n",
       "    </tr>\n",
       "    <tr>\n",
       "      <th>93</th>\n",
       "      <td>2021</td>\n",
       "      <td>Senior-level(SE)</td>\n",
       "      <td>PT</td>\n",
       "      <td>AI Specialist</td>\n",
       "      <td>211408.0</td>\n",
       "      <td>50</td>\n",
       "      <td>DE</td>\n",
       "      <td>S</td>\n",
       "    </tr>\n",
       "    <tr>\n",
       "      <th>94</th>\n",
       "      <td>2021</td>\n",
       "      <td>Senior-level(SE)</td>\n",
       "      <td>PT</td>\n",
       "      <td>Data Analyst</td>\n",
       "      <td>148015.0</td>\n",
       "      <td>50</td>\n",
       "      <td>NG</td>\n",
       "      <td>S</td>\n",
       "    </tr>\n",
       "    <tr>\n",
       "      <th>96</th>\n",
       "      <td>2021</td>\n",
       "      <td>Mid-level(MI)</td>\n",
       "      <td>PT</td>\n",
       "      <td>AI Specialist</td>\n",
       "      <td>56641.0</td>\n",
       "      <td>0</td>\n",
       "      <td>US</td>\n",
       "      <td>M</td>\n",
       "    </tr>\n",
       "    <tr>\n",
       "      <th>98</th>\n",
       "      <td>2021</td>\n",
       "      <td>Entry-level(EN)</td>\n",
       "      <td>FT</td>\n",
       "      <td>AI Specialist</td>\n",
       "      <td>193817.0</td>\n",
       "      <td>0</td>\n",
       "      <td>NG</td>\n",
       "      <td>S</td>\n",
       "    </tr>\n",
       "    <tr>\n",
       "      <th>99</th>\n",
       "      <td>2020</td>\n",
       "      <td>Senior-level(SE)</td>\n",
       "      <td>FL</td>\n",
       "      <td>Data Scientist</td>\n",
       "      <td>184165.0</td>\n",
       "      <td>0</td>\n",
       "      <td>US</td>\n",
       "      <td>L</td>\n",
       "    </tr>\n",
       "  </tbody>\n",
       "</table>\n",
       "<p>76 rows × 8 columns</p>\n",
       "</div>"
      ],
      "text/plain": [
       "    work_year  experience_level employment_type       job_title  salary($)  \\\n",
       "0        2022  Senior-level(SE)              CT  Data Scientist    42183.0   \n",
       "1        2023     Mid-level(MI)              FL  Data Scientist   190371.0   \n",
       "2        2020     Mid-level(MI)              CT  Data Scientist   173946.0   \n",
       "4        2022     Mid-level(MI)              FL     ML Engineer  9999999.0   \n",
       "5        2023     Mid-level(MI)              FT  Data Scientist    35539.0   \n",
       "..        ...               ...             ...             ...        ...   \n",
       "93       2021  Senior-level(SE)              PT   AI Specialist   211408.0   \n",
       "94       2021  Senior-level(SE)              PT    Data Analyst   148015.0   \n",
       "96       2021     Mid-level(MI)              PT   AI Specialist    56641.0   \n",
       "98       2021   Entry-level(EN)              FT   AI Specialist   193817.0   \n",
       "99       2020  Senior-level(SE)              FL  Data Scientist   184165.0   \n",
       "\n",
       "    remote_ratio company_location company_size  \n",
       "0             50               IN            L  \n",
       "1            100               IN            S  \n",
       "2             50               IN            L  \n",
       "4            100               NG            L  \n",
       "5             50               GB            S  \n",
       "..           ...              ...          ...  \n",
       "93            50               DE            S  \n",
       "94            50               NG            S  \n",
       "96             0               US            M  \n",
       "98             0               NG            S  \n",
       "99             0               US            L  \n",
       "\n",
       "[76 rows x 8 columns]"
      ]
     },
     "execution_count": 29,
     "metadata": {},
     "output_type": "execute_result"
    }
   ],
   "source": [
    "salary_df"
   ]
  },
  {
   "cell_type": "code",
   "execution_count": 51,
   "id": "03208bc2-1b69-4590-b374-874744d4e4f2",
   "metadata": {},
   "outputs": [
    {
     "data": {
      "text/plain": [
       "'\\nfull time = 100 hybrid = 50 on-site = 0 \\n'"
      ]
     },
     "execution_count": 51,
     "metadata": {},
     "output_type": "execute_result"
    },
    {
     "data": {
      "image/png": "[encoded data removed]",
      "text/plain": [
       "<Figure size 640x480 with 1 Axes>"
      ]
     },
     "metadata": {},
     "output_type": "display_data"
    }
   ],
   "source": [
    "salary_df.groupby('remote_ratio')['salary($)'].mean().plot(kind = 'pie', ylabel = 'Avg Salaries($)')\n",
    "\"\"\"\n",
    "full time = 100\n",
    "hybrid = 50\n",
    "on-site = 0 \n",
    "\"\"\""
   ]
  },
  {
   "cell_type": "markdown",
   "id": "bf9f5108-73be-4af6-9cb7-23fa09b5a39a",
   "metadata": {},
   "source": [
    "### Fully remote workers earn the highest salaries while, on-site and hybrid are considered less"
   ]
  },
  {
   "cell_type": "markdown",
   "id": "78b188db-1f55-4203-a5d7-900074ae78bf",
   "metadata": {},
   "source": [
    "### Section 4"
   ]
  },
  {
   "cell_type": "code",
   "execution_count": 52,
   "id": "592660ec-c431-4395-a71d-0f6a47d7492c",
   "metadata": {},
   "outputs": [
    {
     "data": {
      "text/plain": [
       "experience_level  job_title     \n",
       "Entry-level(EN)   AI Specialist      201890.0\n",
       "                  Data Analyst       231163.0\n",
       "                  Data Scientist     206308.0\n",
       "                  ML Engineer         93208.0\n",
       "Executive-level   AI Specialist      247903.0\n",
       "                  Data Analyst       178501.0\n",
       "                  Data Scientist     235615.0\n",
       "                  ML Engineer        222339.0\n",
       "Mid-level(MI)     AI Specialist      200862.0\n",
       "                  Data Analyst       227307.0\n",
       "                  Data Scientist     209426.0\n",
       "                  ML Engineer       9999999.0\n",
       "Senior-level(SE)  AI Specialist      211408.0\n",
       "                  Data Analyst       240981.0\n",
       "                  Data Scientist     193707.0\n",
       "                  ML Engineer       5000000.0\n",
       "Name: salary($), dtype: float64"
      ]
     },
     "execution_count": 52,
     "metadata": {},
     "output_type": "execute_result"
    }
   ],
   "source": [
    "max_salary = salary_df.groupby(['experience_level', 'job_title'])['salary($)'].max()\n",
    "max_salary"
   ]
  },
  {
   "cell_type": "code",
   "execution_count": 53,
   "id": "fd49153f-5bd0-466d-9ae7-431b8db77420",
   "metadata": {},
   "outputs": [
    {
     "data": {
      "text/plain": [
       "<Axes: xlabel='experience_level,job_title'>"
      ]
     },
     "execution_count": 53,
     "metadata": {},
     "output_type": "execute_result"
    },
    {
     "data": {
      "image/png": "[encoded data removed]",
      "text/plain": [
       "<Figure size 640x480 with 1 Axes>"
      ]
     },
     "metadata": {},
     "output_type": "display_data"
    }
   ],
   "source": [
    "max_salary.plot(kind = 'bar')"
   ]
  },
  {
   "cell_type": "code",
   "execution_count": null,
   "id": "982a6b14-9748-48f1-9770-459454915b1f",
   "metadata": {},
   "outputs": [],
   "source": [
    "\"\"\"\n",
    "The analysis shows the maximum salary of each job title based on their experience level. \n",
    "From the chart above, there is a great spike in earnings from the ML engineers in both mid and senior levels of expertise. \n",
    "This could be an outlier compared to the other salaries, it also shows how a higher experience level in technical roles earns more than entry-level roles,\n",
    "\"\"\""
   ]
  },
  {
   "cell_type": "code",
   "execution_count": null,
   "id": "bd9ab315-2477-4dce-9ae7-27fd7fff4d1e",
   "metadata": {},
   "outputs": [],
   "source": []
  },
  {
   "cell_type": "code",
   "execution_count": null,
   "id": "e2dce21a-842e-4ff1-b233-ae6627b86777",
   "metadata": {},
   "outputs": [],
   "source": []
  },
  {
   "cell_type": "code",
   "execution_count": 37,
   "id": "48efaedd-51d8-4e78-b7b3-9b2db3e207ce",
   "metadata": {},
   "outputs": [
    {
     "data": {
      "text/plain": [
       "experience_level  job_title     \n",
       "Entry-level(EN)   AI Specialist          50.0\n",
       "                  Data Analyst        51357.0\n",
       "                  Data Scientist      60746.0\n",
       "                  ML Engineer         32869.0\n",
       "Executive-level   AI Specialist      112989.0\n",
       "                  Data Analyst       106213.0\n",
       "                  Data Scientist      66212.0\n",
       "                  ML Engineer         68467.0\n",
       "Mid-level(MI)     AI Specialist       56641.0\n",
       "                  Data Analyst        53328.0\n",
       "                  Data Scientist      35539.0\n",
       "                  ML Engineer       9999999.0\n",
       "Senior-level(SE)  AI Specialist       79377.0\n",
       "                  Data Analyst        68360.0\n",
       "                  Data Scientist      42183.0\n",
       "                  ML Engineer         73484.0\n",
       "Name: salary($), dtype: float64"
      ]
     },
     "execution_count": 37,
     "metadata": {},
     "output_type": "execute_result"
    }
   ],
   "source": [
    "min_salary = salary_df.groupby(['experience_level', 'job_title'])['salary($)'].min()\n",
    "min_salary"
   ]
  },
  {
   "cell_type": "code",
   "execution_count": 38,
   "id": "727fc8e8-ffda-45e8-8d03-dbcd2262348b",
   "metadata": {},
   "outputs": [
    {
     "data": {
      "text/plain": [
       "<Axes: xlabel='experience_level,job_title'>"
      ]
     },
     "execution_count": 38,
     "metadata": {},
     "output_type": "execute_result"
    },
    {
     "data": {
      "image/png": "[encoded data removed]",
      "text/plain": [
       "<Figure size 640x480 with 1 Axes>"
      ]
     },
     "metadata": {},
     "output_type": "display_data"
    }
   ],
   "source": [
    "min_salary.plot(kind = 'bar')"
   ]
  },
  {
   "cell_type": "code",
   "execution_count": null,
   "id": "dcf48f68-86a2-41f3-91c6-de11fadf3f5d",
   "metadata": {},
   "outputs": [],
   "source": [
    "\"\"\"\n",
    "The analysis shows the minimum salary of each job title based on their experience level. \n",
    "The chart above suggests that some jobs at the entry to mid-levels may have very low incomes (possible outliers),\n",
    "and there is a significant spike in earnings in the mid-level section of an ML engineer, suggesting that the lowest-paid person in this role earns a high salary compared to everyone else.\n",
    "All other job titles and levels are in the same minimum earning range   \n",
    "\"\"\""
   ]
  },
  {
   "cell_type": "code",
   "execution_count": null,
   "id": "c475e98c-f999-48b5-9299-2502f362474a",
   "metadata": {},
   "outputs": [],
   "source": []
  },
  {
   "cell_type": "code",
   "execution_count": null,
   "id": "55b2de47-582a-46ad-949d-bac4e1ba541d",
   "metadata": {},
   "outputs": [],
   "source": []
  }
 ],
 "metadata": {
  "kernelspec": {
   "display_name": "Python [conda env:base] *",
   "language": "python",
   "name": "conda-base-py"
  },
  "language_info": {
   "codemirror_mode": {
    "name": "ipython",
    "version": 3
   },
   "file_extension": ".py",
   "mimetype": "text/x-python",
   "name": "python",
   "nbconvert_exporter": "python",
   "pygments_lexer": "ipython3",
   "version": "3.12.4"
  }
 },
 "nbformat": 4,
 "nbformat_minor": 5
}
